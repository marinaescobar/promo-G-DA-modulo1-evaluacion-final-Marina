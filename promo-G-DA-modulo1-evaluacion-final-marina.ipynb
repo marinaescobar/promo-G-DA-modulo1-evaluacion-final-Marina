{
 "cells": [
  {
   "cell_type": "code",
   "execution_count": 227,
   "metadata": {},
   "outputs": [],
   "source": [
    "import re\n",
    "\n",
    "class TiendaOnline:\n",
    "    \n",
    "    def __init__ (self , inventario = [] , clientes = {}, ventas_totales = float()):\n",
    "        \n",
    "        self.inventario = inventario\n",
    "        self.clientes = clientes\n",
    "        self.ventas_totales = ventas_totales\n",
    "    \n",
    "#! -------------------------------------------------------------- GESTIÓN DE INVENTARIO\n",
    "    \n",
    "#* -- Método extra para reutilizar código: Revisar existencia del producto\n",
    "        \n",
    "    def revisar_producto (self , nombre):\n",
    "        \n",
    "        nombre = nombre.lower().strip()\n",
    "        \n",
    "        for producto in self.inventario: # Itera por cada diccionario de producto de la lista del inventario\n",
    "                \n",
    "            if producto['nombre'].lower() == nombre: # Revisa si el valor de la clave \"nombre\" del diccionario coincide con la variable nombre             \n",
    "                return producto # Para la función en el momento en el que encuentra una coincidencia, así no itera hasta el final de forma innecesaria. Devuelve el diccionario de producto encontrado\n",
    "        \n",
    "        return None # Devuelve un None en caso de que no haya encontrado coincidencias\n",
    "    \n",
    "#* ------------------------------------------- Agregar un nuevo producto\n",
    "    \n",
    "    def agregar_producto(self , nombre , precio , cantidad):\n",
    "        \n",
    "        producto = self.revisar_producto(nombre) # Llama a la función revisar_producto para que verifique si el producto se encuentra en el inventario\n",
    "        \n",
    "        if producto: # Si existe el diccionario de producto, actualiza el stock del producto\n",
    "            producto['cantidad'] = cantidad\n",
    "            print(f\"El producto {nombre.capitalize()} ya estaba en el diccionario.\")\n",
    "            print(f\"Cantidad de stock actualizada a {cantidad}.\")   \n",
    "         \n",
    "        else: # Si no existe, añade el producto a la lista del inventario:\n",
    "            nuevo_producto = {'nombre' : nombre , 'precio' : precio , 'cantidad' : cantidad}\n",
    "            self.inventario.append(nuevo_producto)\n",
    "            print(f\"El producto {nombre.capitalize()} se ha añadido correctamente al inventario.\")\n",
    "            \n",
    "#* --------------------------------------------------- Ver el inventario \n",
    "\n",
    "    def ver_inventario (self):\n",
    "        \n",
    "        for producto in self.inventario: # Itera por cada diccionario de producto de la lista del inventario\n",
    "            print(f\"Nombre: {producto['nombre'].capitalize()}, Precio: ${producto['precio']}, Cantidad: {producto['cantidad']}.\") # Hace un print de los valores del diccionario\n",
    "\n",
    "#* -------------------------------------------------- Buscar un producto           \n",
    "            \n",
    "    def buscar_producto (self , nombre):\n",
    "        \n",
    "        producto = self.revisar_producto(nombre) # Llama a la función revisar_producto para que verifique si el producto se encuentra en el inventario\n",
    "        \n",
    "        if producto: # Si existe, imprime la información del producto\n",
    "            print(f\"Nombre: {producto['nombre'].capitalize()}, Precio: ${producto['precio']}, Cantidad: {producto['cantidad']}.\")\n",
    "             \n",
    "        else: # Si no encuentra coincidencias, lo devuelve:\n",
    "            print(f\"El producto no se encuentra en el inventario.\")\n",
    "\n",
    "#* ------------------------------------------------- Actualizar el stock            \n",
    "    \n",
    "    def actualizar_stock(self, nombre, cantidad):\n",
    "                \n",
    "        producto = self.revisar_producto(nombre) # Llama a la función revisar_producto para que verifique si el producto se encuentra en el inventario\n",
    "        \n",
    "        if producto: # Si existe, actualiza el stock del producto\n",
    "            producto['cantidad'] = cantidad\n",
    "            print(f\"Cantidad de stock del producto {nombre.capitalize()} actualizada a {cantidad}.\")   \n",
    "         \n",
    "        else: # Si no encuentra coincidencias, lo devuelve:\n",
    "            print(f\"El producto no se encuentra en el inventario.\")\n",
    "\n",
    "#* ------------------------------------------------ Eliminar un producto            \n",
    "    \n",
    "    def eliminar_producto (self , nombre):\n",
    "        \n",
    "        producto = self.revisar_producto(nombre) # Llama a la función revisar_producto para que verifique si el producto se encuentra en el inventario\n",
    "        \n",
    "        if producto: # Si existe el diccionario de producto, lo elimina\n",
    "            self.inventario.remove(producto)\n",
    "            print(f\"El producto {nombre.capitalize()} se ha eliminado correctamente del inventario.\")   \n",
    "         \n",
    "        else: # Si no encuentra coincidencias, lo devuelve:\n",
    "            print(f\"El producto no se encuentra en el inventario.\")\n",
    "\n",
    "#* ------------------------------------ Calcular el valor del inventario            \n",
    "            \n",
    "    def calcular_valor_inventario (self): \n",
    "        \n",
    "        valor_inventario = 0 \n",
    "        \n",
    "        for producto in self.inventario: # Itera por cada diccionario de producto de la lista del inventario\n",
    "            valor_producto = producto['cantidad'] * producto['precio'] # Multiplica la cantidad de producto por su valor\n",
    "            valor_inventario += valor_producto # Suma el resultado a la variable del valor del inventario\n",
    "        \n",
    "        print(f\"El valor actual del inventario es de ${valor_inventario}.\")\n",
    "\n",
    "#! ----------------------------------------------------------------- GESTIÓN DE COMPRAS\n",
    "\n",
    "#* ------------------------------------------------- Realizar una compra\n",
    "    \n",
    "    def realizar_compra (self):\n",
    "        \n",
    "        carrito = []\n",
    "        producto = {} \n",
    "        nombre = ''\n",
    "        \n",
    "        print(f\"Nuestra tienda actualmente dispone de:\")\n",
    "        print(f\" \")\n",
    "        self.ver_inventario() # Llama a la función ver_inventario para hacer un print del inventario\n",
    "        \n",
    "        def verificar_nombre (): # Función anidada para revisar que el producto introducido en el input sea válido\n",
    "            \n",
    "            while True: \n",
    "                nombre = input(\"¿Qué producto quieres comprar? Escribe 'salir' para finalizar la compra\").lower().strip()\n",
    "                \n",
    "                if nombre == 'salir': # Cuando el cliente escoge 'salir', se asigna un None a nombre y un None a producto (así siempre devuelve 2 variables, ya que eso es lo que se espera de esta función)\n",
    "                    return None, None\n",
    "                \n",
    "                producto = self.revisar_producto(nombre) # Llama a la función revisar_producto para que verifique si el producto se encuentra en el inventario\n",
    "                \n",
    "                if producto:\n",
    "                    return nombre , producto # Para la función cuando se cumple la condición correcta y devuelve las variables nombre (con el valor del input) y el diccionario de producto que contiene toda su información\n",
    "                \n",
    "                else: # Devuelve un mensaje en caso de que el producto no se encuentre en el inventario\n",
    "                    print(f\" \")\n",
    "                    print(f\"El producto {nombre.capitalize()} no existe en nuestro inventario.\")  \n",
    "                    \n",
    "        def verificar_cantidad (): # Función anidada para revisar que la cantidad introducida en el input sea válida\n",
    "            \n",
    "            while True:\n",
    "                \n",
    "                try:\n",
    "                    cantidad = int(input(\"¿Cuantas unidades?\"))\n",
    "                    \n",
    "                    if cantidad > 0:\n",
    "                        return cantidad # Para la función cuando se cumple la condición correcta y devuelve la variable cantidad con el valor del input\n",
    "                    \n",
    "                    else:\n",
    "                        print(f\" \")\n",
    "                        print(f\"Introduce un valor de cantidad mayor a 0.\")\n",
    "                \n",
    "                except ValueError: # Si el dato introducido no es numérico, se activa la excepción del error\n",
    "                    print(f\" \")\n",
    "                    print(f\"Introduce un valor de cantidad válido.\")\n",
    "          \n",
    "        while True:\n",
    "      \n",
    "            nombre , producto = verificar_nombre() # Llama a la función verificar_nombre para que revise el input del nombre del producto\n",
    "            \n",
    "            if nombre is None: # Cuando el cliente escoge 'salir' se le asigna un None, por tanto si el input 'nombre' = None, el bucle se detiene\n",
    "                break\n",
    "            \n",
    "            cantidad = verificar_cantidad() # Llama a la función verificar_cantidad para que revise el input de cantidad\n",
    "            precio_total = 0\n",
    "\n",
    "            if producto['cantidad'] >= cantidad: # Si el producto dispone de stock suficiente, procede a añadirlo al carrito    \n",
    "                \n",
    "                producto_comprado = {nombre.capitalize() : {'precio': producto['precio'], 'cantidad': cantidad}}\n",
    "                carrito.append(producto_comprado) # Añade el producto comprado al carrito de la compra\n",
    "                producto['cantidad'] -= cantidad # Actualiza el stock en el inventario: Resta la cantidad solicitada por el cliente al stock del producto\n",
    "                print(f\" \") \n",
    "                print(f\"--- Carrito ---\")\n",
    "                \n",
    "                for producto_comprado in carrito: # Primero itera sobre los productos que hay en el carrito\n",
    "                    \n",
    "                    for nombre_producto , detalles in producto_comprado.items(): # Después itera sobre los elementos de cada producto (key , values)\n",
    "        \n",
    "                        precio_producto = detalles['cantidad'] * detalles['precio'] # Multiplica la cantidad por su valor unitario para obtener el precio a pagar por el producto\n",
    "                        precio_total += precio_producto # Añade el importe del precio del producto al precio total del carrito\n",
    "                    \n",
    "                        print(f\"{nombre_producto} x{detalles['cantidad']} unidades = ${precio_producto}.\")    \n",
    "                \n",
    "            else: # Si el producto no dispone de stock suficiente, imprime el mensaje\n",
    "                print(f\" \") \n",
    "                print(f\"El producto {nombre.capitalize()} no dispone de stock suficiente.\")\n",
    "        \n",
    "        print(f\" \") \n",
    "        print(f\"El total del carrito es de ${precio_total}.\") # Printea el importe total de la compra una vez en bucle se ha detenido\n",
    "                \n",
    "#* ------------------------------------------------- Procesar pago\n",
    "\n",
    "    def procesar_pago (self):\n",
    "        \n",
    "        print(f\"Gestión de pagos:\")\n",
    "        \n",
    "        def verificar_importe_a_pagar (): # Función anidada para revisar que el input del importe a pagar sea válido\n",
    "            \n",
    "            while True:\n",
    "                \n",
    "                try:  \n",
    "                    total_a_pagar = float(input(\"Indica el total a pagar. Usa '.' para los decimales (p.e: 1000.50)\"))\n",
    "                    return total_a_pagar\n",
    "                except:\n",
    "                    print(f\" \")\n",
    "                    print(f\"Introduce un importe válido\")\n",
    "                    print(f\"Recuerda usar '.' sólo para separar los decimales\")\n",
    "                    \n",
    "        def verificar_ingreso (): # Función anidada para revisar que el input del importe a ingresar sea válido\n",
    "            \n",
    "            while True:\n",
    "                \n",
    "                try:\n",
    "                    ingreso = float(input(\"Ingresa el pago. Usa '.' para los decimales (p.e: 1000.50)\"))\n",
    "                    return ingreso\n",
    "                except:\n",
    "                    print(f\" \")\n",
    "                    print(f\"Introduce un importe válido\")\n",
    "                    print(f\"Recuerda usar '.' sólo para separar los decimales\")\n",
    "                          \n",
    "        total_a_pagar = verificar_importe_a_pagar() # Llama a la función verificar_importe_a_pagar para que revise el input y asigna el resultado a una variable\n",
    "        ingreso = verificar_ingreso() # Llama a la función verificar_ingreso para que revise el input y asigna el resultado a una variable\n",
    "        cambio = 0         \n",
    "          \n",
    "        if ingreso >= total_a_pagar: # Si el total ingresado es mayor o igual que el monto a pagar, procede con el pago\n",
    "            \n",
    "            cambio = round(ingreso - total_a_pagar , 2)\n",
    "            \n",
    "            if cambio == 0: # Condicional extra en caso de que no haya cambio, para poder utilizar un print distinto\n",
    "                print(f\" \")\n",
    "                print(f\"El pago de ${total_a_pagar} se ha efectuado correctamente.\")\n",
    "            \n",
    "            else:\n",
    "                print(f\" \")\n",
    "                print(f\"El pago de ${total_a_pagar} se ha efectuado correctamente.\")\n",
    "                print(f\"Tu cambio son: ${cambio}.\")\n",
    "        \n",
    "        else: # Si el total ingresado es menor al monto a pagar, avisa del error e informa de la cantidad que falta\n",
    "            print(f\" \")\n",
    "            print(f\"Ha habido un error: Cantidad de ingreso insuficiente.\")\n",
    "            diferencia = total_a_pagar - ingreso\n",
    "            print(f\"Faltan: ${diferencia}.\")                       \n",
    "        \n",
    "    \n",
    "#* ---------------------------------------------- Registrar compra\n",
    "\n",
    "    def registrar_compra(self, nombre_cliente, carrito):\n",
    "        \n",
    "        if nombre_cliente in self.clientes:\n",
    "            \n",
    "            total_compra = 0\n",
    "\n",
    "            if isinstance(carrito, dict): # Verifica si carrito es un único diccionario en lugar de una lista\n",
    "                \n",
    "                carrito = [carrito]  # Si es un único diccionario, lo convierte a lista de diccionarios para poder trabajar correctamente con la función\n",
    "\n",
    "            for productos in carrito: # Itera por cada uno de los diccionarios del carrito\n",
    "                \n",
    "                for detalles in productos.values(): # Itera por cada producto y sus detalles\n",
    "                    precio_producto = detalles['precio'] * detalles['cantidad'] # Calcula el coste total por producto\n",
    "                    total_compra += precio_producto # Suma el coste del producto al total de la compra\n",
    "\n",
    "            self.clientes[nombre_cliente]['compras'].append({'productos': carrito, 'total': total_compra}) # Actualiza el historial de compras del cliente añadiendo un diccionario con productos (el carrito) y total (el importe total de la compra)\n",
    "\n",
    "            print(f\"La compra se ha registrado correctamente en el historial de {nombre_cliente.capitalize()}.\")\n",
    "            \n",
    "        else:\n",
    "            print(f\"La compra no puede registrarse, ya que {nombre_cliente.capitalize()} no está dado de alta en nuestra lista de clientes.\")\n",
    "\n",
    "#* --------------------------------------- Calcular ventas totales\n",
    "\n",
    "    def calcular_ventas_totales (self):  \n",
    "        \n",
    "        for detalles in self.clientes.values(): # Itera por cada diccionario con la información del cliente\n",
    "            \n",
    "            for compra in detalles['compras']: # Itera por los elementos de la lista en 'compras' (productos y total)\n",
    "                \n",
    "                self.ventas_totales += compra['total'] # Añade el total de cada compra al monto de ventas totales\n",
    "\n",
    "        print(f\"El total de ventas es de ${self.ventas_totales}.\")\n",
    "\n",
    "#! ---------------------------------------------------------------- GESTIÓN DE CLIENTES\n",
    "\n",
    "#* -------------------------------------------- Agregar un nuevo cliente\n",
    "        \n",
    "    def agregar_cliente (self , nombre , email):\n",
    "        \n",
    "        patron_email = '^[a-zA-Z0-9._%+-]+@[a-zA-Z0-9.-]+\\.[a-zA-Z]{2,}$' # Regex para verificar la correcta sintaxis de un correo electrónico\n",
    "        \n",
    "        if nombre not in self.clientes: # Revisa que el cliente no exista ya en la lista\n",
    "        \n",
    "            if re.match(patron_email , email): # Si el email cumple con el patrón de regex, da de alta el nuevo cliente\n",
    "                \n",
    "                self.clientes[nombre] = {'email' : email , 'compras' : []}\n",
    "                print(f\"El cliente {nombre.capitalize()} se ha agregado correctamente.\")\n",
    "                \n",
    "            else: # Si el email no coincide con el patrón, pide que se rectifique:\n",
    "                print(f\"Introduce una dirección email válida. Por ejemplo: example@example.com.\")\n",
    "        \n",
    "        else: # Avisa de que el cliente ya estaba dado de alta\n",
    "            print(f\"{nombre.capitalize()} ya estaba en la lista de clientes.\")\n",
    "\n",
    "#* -------------------------------------------------------- Ver clientes            \n",
    "            \n",
    "    def ver_clientes (self):\n",
    "        \n",
    "        for nombre , detalles in self.clientes.items(): # Itera por cada diccionario con la información del cliente\n",
    "    \n",
    "            print(f\"Nombre: {nombre}, Email: {detalles['email']}.\") \n",
    "\n",
    "#* -------------------------------- Ver historial de compras del cliente            \n",
    "    \n",
    "    def ver_compras_cliente(self, nombre_cliente):\n",
    "        \n",
    "        if nombre_cliente in self.clientes: # Revisa si el cliente está en la lista de clientes\n",
    "            \n",
    "            print(f\"El historial de compras de {nombre_cliente.capitalize()} es:\")\n",
    "            print(f\" \")\n",
    "            \n",
    "            numero_compra = 0 # Variable auxiliar      \n",
    "                       \n",
    "            for compra in self.clientes[nombre_cliente]['compras']: # Itera por cada diccionario dentro de 'compras' \n",
    "                \n",
    "                numero_compra += 1 # Suma 1 cada vez que completa una iteración para ir diferenciando las distintas compras del cliente\n",
    "                \n",
    "                print(f\"Compra {numero_compra} ---------------\")\n",
    "                \n",
    "                for producto in compra['productos']: # Itera por cada elemento dentro de la lista  \n",
    "                    \n",
    "                    for nombre_producto , detalles in producto.items(): # Vuelve a iterar, esta vez por cada diccionario, y accede a su producto y sus detalles\n",
    "                    \n",
    "                        precio_producto = detalles['precio'] * detalles['cantidad']\n",
    "                        print(f\"Producto: {nombre_producto}, Precio unidad: ${detalles['precio']}, Cantidad: {detalles['cantidad']}. Precio final: ${precio_producto}.\")\n",
    "                \n",
    "                print(f\"Total: ${compra['total']} ------------\") # Saca la información del coste total de la compra, que ya quedó almacenada al registrarla usando la función registrar_compra\n",
    "                print(f\" \")\n",
    "                    \n",
    "        else:\n",
    "            \n",
    "            print(f\"{nombre_cliente.capitalize()} no está dado de alta en nuestra lista de clientes.\")"
   ]
  },
  {
   "cell_type": "markdown",
   "metadata": {},
   "source": [
    "### Creación de la tienda"
   ]
  },
  {
   "cell_type": "code",
   "execution_count": 228,
   "metadata": {},
   "outputs": [],
   "source": [
    "mi_tienda = TiendaOnline([{'nombre': 'Camisa', 'precio': 20, 'cantidad': 40},\n",
    "{'nombre': 'Pantalón', 'precio': 30, 'cantidad': 30}] , {'Cliente1': {'email': 'cliente1@email.com', 'compras': []},\n",
    "'Cliente2': {'email': 'cliente2@email.com', 'compras': []}} , 0.0)"
   ]
  },
  {
   "cell_type": "markdown",
   "metadata": {},
   "source": [
    "1. Agregar un producto"
   ]
  },
  {
   "cell_type": "code",
   "execution_count": 217,
   "metadata": {},
   "outputs": [
    {
     "name": "stdout",
     "output_type": "stream",
     "text": [
      "El producto Calcetines se ha añadido correctamente al inventario.\n"
     ]
    }
   ],
   "source": [
    "mi_tienda.agregar_producto('Calcetines' , 10 , 30)"
   ]
  },
  {
   "cell_type": "code",
   "execution_count": 218,
   "metadata": {},
   "outputs": [
    {
     "name": "stdout",
     "output_type": "stream",
     "text": [
      "El producto Camisa ya estaba en el diccionario.\n",
      "Cantidad de stock actualizada a 50.\n"
     ]
    }
   ],
   "source": [
    "mi_tienda.agregar_producto('Camisa' , 20 , 50)"
   ]
  },
  {
   "cell_type": "markdown",
   "metadata": {},
   "source": [
    "2. Ver inventario"
   ]
  },
  {
   "cell_type": "code",
   "execution_count": 219,
   "metadata": {},
   "outputs": [
    {
     "name": "stdout",
     "output_type": "stream",
     "text": [
      "Nombre: Camisa, Precio: $20, Cantidad: 50.\n",
      "Nombre: Pantalón, Precio: $30, Cantidad: 30.\n",
      "Nombre: Calcetines, Precio: $10, Cantidad: 30.\n"
     ]
    }
   ],
   "source": [
    "mi_tienda.ver_inventario()"
   ]
  },
  {
   "cell_type": "markdown",
   "metadata": {},
   "source": [
    "3. Buscar un producto"
   ]
  },
  {
   "cell_type": "code",
   "execution_count": 220,
   "metadata": {},
   "outputs": [
    {
     "name": "stdout",
     "output_type": "stream",
     "text": [
      "Nombre: Camisa, Precio: $20, Cantidad: 50.\n"
     ]
    }
   ],
   "source": [
    "mi_tienda.buscar_producto('camisa')"
   ]
  },
  {
   "cell_type": "code",
   "execution_count": 221,
   "metadata": {},
   "outputs": [
    {
     "name": "stdout",
     "output_type": "stream",
     "text": [
      "El producto no se encuentra en el inventario.\n"
     ]
    }
   ],
   "source": [
    "mi_tienda.buscar_producto('bufandas')"
   ]
  },
  {
   "cell_type": "markdown",
   "metadata": {},
   "source": [
    "4. Actualizar stock"
   ]
  },
  {
   "cell_type": "code",
   "execution_count": 222,
   "metadata": {},
   "outputs": [
    {
     "name": "stdout",
     "output_type": "stream",
     "text": [
      "Cantidad de stock del producto Camisa actualizada a 40.\n"
     ]
    }
   ],
   "source": [
    "mi_tienda.actualizar_stock('camisa' , 40)"
   ]
  },
  {
   "cell_type": "markdown",
   "metadata": {},
   "source": [
    "5. Eliminar producto"
   ]
  },
  {
   "cell_type": "code",
   "execution_count": 223,
   "metadata": {},
   "outputs": [
    {
     "name": "stdout",
     "output_type": "stream",
     "text": [
      "El producto Calcetines se ha eliminado correctamente del inventario.\n"
     ]
    }
   ],
   "source": [
    "mi_tienda.eliminar_producto('calcetines')"
   ]
  },
  {
   "cell_type": "markdown",
   "metadata": {},
   "source": [
    "6. Calcular el valor del inventario"
   ]
  },
  {
   "cell_type": "code",
   "execution_count": 224,
   "metadata": {},
   "outputs": [
    {
     "name": "stdout",
     "output_type": "stream",
     "text": [
      "El valor actual del inventario es de $1700.\n"
     ]
    }
   ],
   "source": [
    "mi_tienda.calcular_valor_inventario()"
   ]
  },
  {
   "cell_type": "markdown",
   "metadata": {},
   "source": [
    "7. Realizar una compra"
   ]
  },
  {
   "cell_type": "code",
   "execution_count": 229,
   "metadata": {},
   "outputs": [
    {
     "name": "stdout",
     "output_type": "stream",
     "text": [
      "Nuestra tienda actualmente dispone de:\n",
      " \n",
      "Nombre: Camisa, Precio: $20, Cantidad: 40.\n",
      "Nombre: Pantalón, Precio: $30, Cantidad: 30.\n",
      " \n",
      "El producto Calcetines no existe en nuestro inventario.\n",
      " \n",
      "Introduce un valor de cantidad válido.\n",
      " \n",
      "Introduce un valor de cantidad mayor a 0.\n",
      " \n",
      "--- Carrito ---\n",
      "Camisa x8 unidades = $160.\n",
      " \n",
      "--- Carrito ---\n",
      "Camisa x8 unidades = $160.\n",
      "Pantalón x5 unidades = $150.\n",
      " \n",
      "El total del carrito es de $310.\n"
     ]
    }
   ],
   "source": [
    "mi_tienda.realizar_compra()"
   ]
  },
  {
   "cell_type": "markdown",
   "metadata": {},
   "source": [
    "8. Procesar pago"
   ]
  },
  {
   "cell_type": "code",
   "execution_count": 190,
   "metadata": {},
   "outputs": [
    {
     "name": "stdout",
     "output_type": "stream",
     "text": [
      "Gestión de pagos:\n",
      " \n",
      "El pago de $310.0 se ha efectuado correctamente.\n",
      "Tu cambio son: $40.0.\n"
     ]
    }
   ],
   "source": [
    "mi_tienda.procesar_pago()"
   ]
  },
  {
   "cell_type": "code",
   "execution_count": 191,
   "metadata": {},
   "outputs": [
    {
     "name": "stdout",
     "output_type": "stream",
     "text": [
      "Gestión de pagos:\n",
      " \n",
      "Introduce un importe válido\n",
      "Recuerda usar '.' sólo para separar los decimales\n",
      " \n",
      "Ha habido un error: Cantidad de ingreso insuficiente.\n",
      "Faltan: $10.0.\n"
     ]
    }
   ],
   "source": [
    "mi_tienda.procesar_pago()"
   ]
  },
  {
   "cell_type": "markdown",
   "metadata": {},
   "source": [
    "9. Agregar cliente"
   ]
  },
  {
   "cell_type": "code",
   "execution_count": 192,
   "metadata": {},
   "outputs": [
    {
     "name": "stdout",
     "output_type": "stream",
     "text": [
      "Introduce una dirección email válida. Por ejemplo: example@example.com.\n"
     ]
    }
   ],
   "source": [
    "mi_tienda.agregar_cliente('Cliente3' , 'pepe.com')"
   ]
  },
  {
   "cell_type": "code",
   "execution_count": 193,
   "metadata": {},
   "outputs": [
    {
     "name": "stdout",
     "output_type": "stream",
     "text": [
      "El cliente Cliente3 se ha agregado correctamente.\n"
     ]
    }
   ],
   "source": [
    "mi_tienda.agregar_cliente('Cliente3' , 'cliente3@example.com')"
   ]
  },
  {
   "cell_type": "markdown",
   "metadata": {},
   "source": [
    "10. Ver clientes"
   ]
  },
  {
   "cell_type": "code",
   "execution_count": 194,
   "metadata": {},
   "outputs": [
    {
     "name": "stdout",
     "output_type": "stream",
     "text": [
      "Nombre: Cliente1, Email: cliente1@email.com.\n",
      "Nombre: Cliente2, Email: cliente2@email.com.\n",
      "Nombre: Cliente3, Email: cliente3@example.com.\n"
     ]
    }
   ],
   "source": [
    "mi_tienda.ver_clientes()"
   ]
  },
  {
   "cell_type": "markdown",
   "metadata": {},
   "source": [
    "11. Registrar compra"
   ]
  },
  {
   "cell_type": "code",
   "execution_count": 195,
   "metadata": {},
   "outputs": [
    {
     "name": "stdout",
     "output_type": "stream",
     "text": [
      "La compra se ha registrado correctamente en el historial de Cliente1.\n"
     ]
    }
   ],
   "source": [
    "carrito_cliente1 = [{\"Camisa\": {\"precio\": 20, \"cantidad\": 3}} , {\"Pantalón\": {\"precio\": 30, \"cantidad\": 2}}]\n",
    "\n",
    "mi_tienda.registrar_compra('Cliente1' , carrito_cliente1)"
   ]
  },
  {
   "cell_type": "code",
   "execution_count": 196,
   "metadata": {},
   "outputs": [
    {
     "name": "stdout",
     "output_type": "stream",
     "text": [
      "La compra se ha registrado correctamente en el historial de Cliente2.\n"
     ]
    }
   ],
   "source": [
    "carrito_cliente2 = {\"Pantalón\" : {'precio' : 30 , 'cantidad' : 5}}\n",
    "\n",
    "mi_tienda.registrar_compra('Cliente2' , carrito_cliente2)"
   ]
  },
  {
   "cell_type": "code",
   "execution_count": 198,
   "metadata": {},
   "outputs": [
    {
     "name": "stdout",
     "output_type": "stream",
     "text": [
      "La compra no puede registrarse, ya que Cliente5 no está dado de alta en nuestra lista de clientes.\n"
     ]
    }
   ],
   "source": [
    "carrito_cliente5 = {\"Pantalón\": {\"precio\": 30, \"cantidad\": 2}}\n",
    "\n",
    "mi_tienda.registrar_compra('Cliente5' , carrito_cliente5)"
   ]
  },
  {
   "cell_type": "markdown",
   "metadata": {},
   "source": [
    "12. Ver historial de compras de un cliente"
   ]
  },
  {
   "cell_type": "code",
   "execution_count": 199,
   "metadata": {},
   "outputs": [
    {
     "name": "stdout",
     "output_type": "stream",
     "text": [
      "El historial de compras de Cliente1 es:\n",
      " \n",
      "Compra 1 ---------------\n",
      "Producto: Camisa, Precio unidad: $20, Cantidad: 3. Precio final: $60.\n",
      "Producto: Pantalón, Precio unidad: $30, Cantidad: 2. Precio final: $60.\n",
      "Total: $120 ------------\n",
      " \n"
     ]
    }
   ],
   "source": [
    "mi_tienda.ver_compras_cliente('Cliente1')"
   ]
  },
  {
   "cell_type": "code",
   "execution_count": 200,
   "metadata": {},
   "outputs": [
    {
     "name": "stdout",
     "output_type": "stream",
     "text": [
      "El historial de compras de Cliente2 es:\n",
      " \n",
      "Compra 1 ---------------\n",
      "Producto: Pantalón, Precio unidad: $30, Cantidad: 5. Precio final: $150.\n",
      "Total: $150 ------------\n",
      " \n"
     ]
    }
   ],
   "source": [
    "mi_tienda.ver_compras_cliente('Cliente2')"
   ]
  },
  {
   "cell_type": "markdown",
   "metadata": {},
   "source": [
    "13. Calcular las ventas totales"
   ]
  },
  {
   "cell_type": "code",
   "execution_count": 201,
   "metadata": {},
   "outputs": [
    {
     "name": "stdout",
     "output_type": "stream",
     "text": [
      "El total de ventas es de $270.0.\n"
     ]
    }
   ],
   "source": [
    "mi_tienda.calcular_ventas_totales()"
   ]
  }
 ],
 "metadata": {
  "kernelspec": {
   "display_name": "base",
   "language": "python",
   "name": "python3"
  },
  "language_info": {
   "codemirror_mode": {
    "name": "ipython",
    "version": 3
   },
   "file_extension": ".py",
   "mimetype": "text/x-python",
   "name": "python",
   "nbconvert_exporter": "python",
   "pygments_lexer": "ipython3",
   "version": "3.9.7"
  }
 },
 "nbformat": 4,
 "nbformat_minor": 2
}
